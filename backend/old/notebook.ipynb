{
 "cells": [
  {
   "cell_type": "code",
   "execution_count": null,
   "id": "0b4302e2",
   "metadata": {},
   "outputs": [],
   "source": [
    "import getpass\n",
    "import os\n",
    "\n",
    "if \"GROQ_API_KEY\" not in os.environ:\n",
    "\n",
    "    \n",
    "    os.environ[\"GROQ_API_KEY\"] = getpass.getpass(\"\")"
   ]
  },
  {
   "cell_type": "code",
   "execution_count": null,
   "id": "df89bd43",
   "metadata": {},
   "outputs": [],
   "source": [
    "os.environ[\"GROQ_API_KEY\"] = \"\""
   ]
  },
  {
   "cell_type": "code",
   "execution_count": 3,
   "id": "5d9a5d38",
   "metadata": {},
   "outputs": [],
   "source": [
    "from langchain_groq import ChatGroq\n",
    "\n",
    "llm = ChatGroq(\n",
    "    model=\"openai/gpt-oss-120b\")"
   ]
  },
  {
   "cell_type": "code",
   "execution_count": 4,
   "id": "327a7deb",
   "metadata": {},
   "outputs": [
    {
     "data": {
      "text/plain": [
       "'Hello! How can I help you today?'"
      ]
     },
     "execution_count": 4,
     "metadata": {},
     "output_type": "execute_result"
    }
   ],
   "source": [
    "\n",
    "ai_msg = llm.invoke(\"hi\")\n",
    "ai_msg.content"
   ]
  },
  {
   "cell_type": "code",
   "execution_count": 18,
   "id": "3cdba812",
   "metadata": {},
   "outputs": [
    {
     "name": "stdout",
     "output_type": "stream",
     "text": [
      "Hello! How can I help you today?\n"
     ]
    }
   ],
   "source": [
    "print(ai_msg.content)"
   ]
  },
  {
   "cell_type": "code",
   "execution_count": 19,
   "id": "50a75e2a",
   "metadata": {},
   "outputs": [
    {
     "name": "stdout",
     "output_type": "stream",
     "text": [
      "Project root added to path: h:\\akash\\git\\CoherenceAI\n"
     ]
    }
   ],
   "source": [
    "import sys, os\n",
    "\n",
    "# Get project root — one level up from 'research_and_analyst'\n",
    "project_root = os.path.abspath(os.path.join(os.getcwd(), \"../..\"))\n",
    "sys.path.append(project_root)\n",
    "\n",
    "print(\"Project root added to path:\", project_root)"
   ]
  },
  {
   "cell_type": "code",
   "execution_count": 21,
   "id": "c778139b",
   "metadata": {},
   "outputs": [],
   "source": [
    "from langgraph.graph import StateGraph, START, END\n",
    "from langchain_core.messages import AIMessage,HumanMessage , SystemMessage\n",
    "from langgraph.checkpoint.memory import MemorySaver"
   ]
  },
  {
   "cell_type": "code",
   "execution_count": 22,
   "id": "479d1891",
   "metadata": {},
   "outputs": [],
   "source": [
    "from typing import List\n",
    "from typing_extensions import TypedDict\n",
    "from pydantic import BaseModel, Field"
   ]
  },
  {
   "cell_type": "code",
   "execution_count": 34,
   "id": "6865ef1e",
   "metadata": {},
   "outputs": [],
   "source": [
    "class RequirementDescription(BaseModel):\n",
    "    description: str = Field(description=\"Description of the requirement.\")\n",
    "\n",
    "    \n",
    "    @property\n",
    "    def persona(self) -> str:\n",
    "        return f\"description: {self.description}\\\\n\"\n",
    "    "
   ]
  },
  {
   "cell_type": "code",
   "execution_count": 35,
   "id": "4ac26929",
   "metadata": {},
   "outputs": [],
   "source": [
    "desc = RequirementDescription(\n",
    "    description=\"Mobile manufactruring\"\n",
    "    )"
   ]
  },
  {
   "cell_type": "code",
   "execution_count": 36,
   "id": "47988dc7",
   "metadata": {},
   "outputs": [
    {
     "data": {
      "text/plain": [
       "'description: Mobile manufactruring\\\\n'"
      ]
     },
     "execution_count": 36,
     "metadata": {},
     "output_type": "execute_result"
    }
   ],
   "source": [
    "desc.persona"
   ]
  },
  {
   "cell_type": "code",
   "execution_count": 37,
   "id": "35cbe9eb",
   "metadata": {},
   "outputs": [
    {
     "data": {
      "text/plain": [
       "'Mobile manufactruring'"
      ]
     },
     "execution_count": 37,
     "metadata": {},
     "output_type": "execute_result"
    }
   ],
   "source": [
    "desc.description"
   ]
  },
  {
   "cell_type": "code",
   "execution_count": 39,
   "id": "090f6b91",
   "metadata": {},
   "outputs": [],
   "source": [
    "\n",
    "class Perspectives(BaseModel):\n",
    "       descriptions: List[RequirementDescription] = Field(description=\"Comprehensive list of requiremnent Descriptions.\")"
   ]
  },
  {
   "cell_type": "code",
   "execution_count": 40,
   "id": "9940a1ad",
   "metadata": {},
   "outputs": [],
   "source": [
    "class GenerateDescriptionState(TypedDict):\n",
    "    topic: str"
   ]
  },
  {
   "cell_type": "code",
   "execution_count": null,
   "id": "b927b03a",
   "metadata": {},
   "outputs": [],
   "source": []
  },
  {
   "cell_type": "code",
   "execution_count": 44,
   "id": "b8ce06b4",
   "metadata": {},
   "outputs": [],
   "source": [
    "from typing import List, TypedDict, Annotated\n",
    "from langchain_core.prompts import ChatPromptTemplate\n",
    "from langgraph.graph import StateGraph, MessagesState, END\n",
    "from pydantic import BaseModel, Field"
   ]
  },
  {
   "cell_type": "code",
   "execution_count": 45,
   "id": "785b2ed2",
   "metadata": {},
   "outputs": [],
   "source": [
    "\n",
    "# -----------------------------\n",
    "# 1️⃣ Pydantic model for output\n",
    "# -----------------------------\n",
    "class KeywordOutput(BaseModel):\n",
    "    \"\"\"Structured keyword output model.\"\"\"\n",
    "    keywords: List[str] = Field(..., description=\"List of 5 keywords, each 3 words long\")\n"
   ]
  },
  {
   "cell_type": "code",
   "execution_count": 46,
   "id": "58f5a0cc",
   "metadata": {},
   "outputs": [],
   "source": [
    "\n",
    "\n",
    "# -----------------------------\n",
    "# 2️⃣ Define the State\n",
    "# -----------------------------\n",
    "class KeywordState(MessagesState):\n",
    "    \"\"\"State of the keyword generation graph.\"\"\"\n",
    "    requirement_description: str  # user input\n",
    "    keyword_output: KeywordOutput  # structured LLM output\n",
    "\n"
   ]
  },
  {
   "cell_type": "code",
   "execution_count": 47,
   "id": "35994d52",
   "metadata": {},
   "outputs": [],
   "source": [
    "# Structured output binding\n",
    "llm_structured = llm.with_structured_output(KeywordOutput)"
   ]
  },
  {
   "cell_type": "code",
   "execution_count": 48,
   "id": "ddb9c55f",
   "metadata": {},
   "outputs": [],
   "source": [
    "\n",
    "prompt = ChatPromptTemplate.from_template(\"\"\"\n",
    "You are an expert requirement analyst.  \n",
    "Given the following requirement description:\n",
    "\n",
    "\"{requirement_description}\"\n",
    "\n",
    "Generate exactly 5 *keywords*, each containing 3 words, that best summarize the requirement.\n",
    "\n",
    "Return them as a JSON list of strings.\n",
    "\"\"\")\n"
   ]
  },
  {
   "cell_type": "code",
   "execution_count": 49,
   "id": "62a6934f",
   "metadata": {},
   "outputs": [],
   "source": [
    "def generate_keywords(state: KeywordState):\n",
    "    \"\"\"Generate structured keywords using LLM.\"\"\"\n",
    "    chain = prompt | llm_structured\n",
    "    result = chain.invoke({\"requirement_description\": state[\"requirement_description\"]})\n",
    "\n",
    "    # ✅ Do NOT append manually — LangGraph already tracks messages\n",
    "    state[\"keyword_output\"] = result\n",
    "    return state"
   ]
  },
  {
   "cell_type": "code",
   "execution_count": null,
   "id": "35b94341",
   "metadata": {},
   "outputs": [],
   "source": []
  },
  {
   "cell_type": "code",
   "execution_count": 50,
   "id": "2fbe2afb",
   "metadata": {},
   "outputs": [],
   "source": [
    "\n",
    "# -----------------------------\n",
    "# 4️⃣ Build the LangGraph\n",
    "# -----------------------------\n",
    "graph = StateGraph(KeywordState)\n",
    "graph.add_node(\"generate_keywords\", generate_keywords)\n",
    "graph.add_edge(\"generate_keywords\", END)\n",
    "graph.set_entry_point(\"generate_keywords\")\n",
    "\n",
    "app = graph.compile()"
   ]
  },
  {
   "cell_type": "code",
   "execution_count": 51,
   "id": "4762f157",
   "metadata": {},
   "outputs": [],
   "source": [
    "memory = MemorySaver()"
   ]
  },
  {
   "cell_type": "code",
   "execution_count": 52,
   "id": "2f95ad89",
   "metadata": {},
   "outputs": [],
   "source": [
    "graph = graph.compile(checkpointer= memory)"
   ]
  },
  {
   "cell_type": "code",
   "execution_count": null,
   "id": "9428dbad",
   "metadata": {},
   "outputs": [],
   "source": []
  },
  {
   "cell_type": "code",
   "execution_count": 53,
   "id": "46a3e5b2",
   "metadata": {},
   "outputs": [
    {
     "data": {
      "image/png": "[encoded data removed]",
      "text/plain": [
       "<IPython.core.display.Image object>"
      ]
     },
     "metadata": {},
     "output_type": "display_data"
    }
   ],
   "source": [
    "from langgraph.graph import StateGraph, MessagesState, END\n",
    "from IPython.display import Image, display\n",
    "\n",
    "\n",
    "\n",
    "from IPython.display import Image, display\n",
    "\n",
    "display(Image(app.get_graph().draw_mermaid_png()))\n"
   ]
  },
  {
   "cell_type": "code",
   "execution_count": 54,
   "id": "eeda8f9c",
   "metadata": {},
   "outputs": [
    {
     "name": "stdout",
     "output_type": "stream",
     "text": [
      "\n",
      "⚡ Current Keywords Generated:\n",
      " - 6.7-inch AMOLED display\n",
      " - Octa-core CPU processor\n",
      " - 5G connectivity support\n",
      " - High resolution display\n",
      " - Advanced mobile chipset\n",
      "--------------------------------------------------\n"
     ]
    }
   ],
   "source": [
    "from langchain_core.messages import SystemMessage\n",
    "\n",
    "topic = \"The new smartphone shall feature a 6.7-inch AMOLED display, octa-core processor, and 5G connectivity\"\n",
    "max_keywords = 5\n",
    "\n",
    "# Optional thread config for isolation\n",
    "thread = {\"configurable\": {\"thread_id\": 1}}\n",
    "\n",
    "# Stream events from the graph\n",
    "for event in graph.stream(\n",
    "    {\"requirement_description\": topic},\n",
    "    thread,\n",
    "    stream_mode=\"values\"  # stream actual outputs\n",
    "):\n",
    "    # 'keyword_output' may or may not exist yet\n",
    "    keyword_output = event.get(\"keyword_output\", None)\n",
    "    messages = event.get(\"messages\", [])\n",
    "\n",
    "    # Print messages as they arrive\n",
    "    if messages:\n",
    "        for m in messages:\n",
    "            print(f\"[{m.type}] {m.content}\")\n",
    "\n",
    "    # Print partial keywords if available\n",
    "    if keyword_output:\n",
    "        print(\"\\n⚡ Current Keywords Generated:\")\n",
    "        for kw in keyword_output.keywords:\n",
    "            print(f\" - {kw}\")\n",
    "        print(\"-\" * 50)\n"
   ]
  },
  {
   "cell_type": "code",
   "execution_count": 55,
   "id": "133c8c16",
   "metadata": {},
   "outputs": [
    {
     "name": "stdout",
     "output_type": "stream",
     "text": [
      "\n",
      "⚙️ Running the LangGraph pipeline...\n",
      "\n",
      "✅ Generated Keywords:\n",
      " - 6.7-inch AMOLED display\n",
      " - Octa-core 3.0GHz processor\n",
      " - 256GB expandable storage\n",
      " - 108MP triple-camera system\n",
      " - 5000mAh 65W charging\n",
      "\n",
      "📦 Final State:\n",
      "{'messages': [], 'requirement_description': 'The new smartphone shall feature a 6.7-inch AMOLED display with a resolution of at least 2400x1080 pixels, offering vibrant colors and a 120Hz refresh rate for smooth visual performance. It shall be powered by an octa-core processor with a minimum clock speed of 3.0 GHz and supported by at least 8GB of RAM to ensure seamless multitasking. The device shall include 256GB of internal storage, expandable up to 1TB via microSD. A triple-lens rear camera system with 108MP primary, 12MP ultra-wide, and 10MP telephoto lenses shall enable high-quality imaging under various lighting conditions. The front camera shall be at least 32MP for high-resolution selfies and video calls. The smartphone shall support 5G, Wi-Fi 6, and Bluetooth 5.3 connectivity for high-speed data transfer. It shall include a 5000mAh battery supporting 65W fast charging to achieve 50% charge within 20 minutes. The operating system shall be Android 14 or equivalent, with guaranteed security updates for at least three years. The chassis shall be made of reinforced aluminum with Gorilla Glass Victus protection for durability. Additionally, the device shall comply with IP68 standards for dust and water resistance.', 'keyword_output': KeywordOutput(keywords=['6.7-inch AMOLED display', 'Octa-core 3.0GHz processor', '256GB expandable storage', '108MP triple-camera system', '5000mAh 65W charging'])}\n",
      "\n",
      "💬 Message History:\n"
     ]
    }
   ],
   "source": [
    "# user_input = input(\"Enter your requirement description: \")\n",
    "user_input = \"The new smartphone shall feature a 6.7-inch AMOLED display with a resolution of at least 2400x1080 pixels, offering vibrant colors and a 120Hz refresh rate for smooth visual performance. It shall be powered by an octa-core processor with a minimum clock speed of 3.0 GHz and supported by at least 8GB of RAM to ensure seamless multitasking. The device shall include 256GB of internal storage, expandable up to 1TB via microSD. A triple-lens rear camera system with 108MP primary, 12MP ultra-wide, and 10MP telephoto lenses shall enable high-quality imaging under various lighting conditions. The front camera shall be at least 32MP for high-resolution selfies and video calls. The smartphone shall support 5G, Wi-Fi 6, and Bluetooth 5.3 connectivity for high-speed data transfer. It shall include a 5000mAh battery supporting 65W fast charging to achieve 50% charge within 20 minutes. The operating system shall be Android 14 or equivalent, with guaranteed security updates for at least three years. The chassis shall be made of reinforced aluminum with Gorilla Glass Victus protection for durability. Additionally, the device shall comply with IP68 standards for dust and water resistance.\"\n",
    "initial_state = {\"requirement_description\": user_input, \"messages\": []}\n",
    "\n",
    "print(\"\\n⚙️ Running the LangGraph pipeline...\")\n",
    "final_state = app.invoke(initial_state)\n",
    "\n",
    "# ✅ Structured output\n",
    "print(\"\\n✅ Generated Keywords:\")\n",
    "for kw in final_state[\"keyword_output\"].keywords:\n",
    "    print(\" -\", kw)\n",
    "\n",
    "# ✅ State\n",
    "print(\"\\n📦 Final State:\")\n",
    "print(final_state)\n",
    "\n",
    "print(\"\\n💬 Message History:\")\n",
    "for m in final_state[\"messages\"]:\n",
    "    # Works for HumanMessage, SystemMessage, AIMessage etc.\n",
    "    print(f\"[{m.type}] {m.content}\")\n",
    "    \n"
   ]
  },
  {
   "cell_type": "code",
   "execution_count": 56,
   "id": "bf83f192",
   "metadata": {},
   "outputs": [
    {
     "data": {
      "text/plain": [
       "['6.7-inch AMOLED display',\n",
       " 'Octa-core 3.0GHz processor',\n",
       " '256GB expandable storage',\n",
       " '108MP triple-camera system',\n",
       " '5000mAh 65W charging']"
      ]
     },
     "execution_count": 56,
     "metadata": {},
     "output_type": "execute_result"
    }
   ],
   "source": [
    "final_state[\"keyword_output\"].keywords"
   ]
  },
  {
   "cell_type": "code",
   "execution_count": 71,
   "id": "971a5faa",
   "metadata": {},
   "outputs": [],
   "source": [
    "def reset_state():\n",
    "    \"\"\"Reset the LangGraph KeywordState to an empty baseline.\"\"\"\n",
    "    return {\n",
    "        \"requirement_description\": \"\",\n",
    "        \"messages\": [],\n",
    "        \"keyword_output\": None\n",
    "    }\n",
    "\n",
    "# Usage\n",
    "state = reset_state()"
   ]
  },
  {
   "cell_type": "code",
   "execution_count": 57,
   "id": "c5fc6f6b",
   "metadata": {},
   "outputs": [
    {
     "ename": "NameError",
     "evalue": "name 'result' is not defined",
     "output_type": "error",
     "traceback": [
      "\u001b[31m---------------------------------------------------------------------------\u001b[39m",
      "\u001b[31mNameError\u001b[39m                                 Traceback (most recent call last)",
      "\u001b[36mCell\u001b[39m\u001b[36m \u001b[39m\u001b[32mIn[57]\u001b[39m\u001b[32m, line 1\u001b[39m\n\u001b[32m----> \u001b[39m\u001b[32m1\u001b[39m \u001b[43mresult\u001b[49m\n",
      "\u001b[31mNameError\u001b[39m: name 'result' is not defined"
     ]
    }
   ],
   "source": [
    "result"
   ]
  },
  {
   "cell_type": "code",
   "execution_count": 58,
   "id": "a5443bfa",
   "metadata": {},
   "outputs": [
    {
     "data": {
      "text/plain": [
       "[]"
      ]
     },
     "execution_count": 58,
     "metadata": {},
     "output_type": "execute_result"
    }
   ],
   "source": [
    "initial_state[\"messages\"]"
   ]
  },
  {
   "cell_type": "code",
   "execution_count": 59,
   "id": "f4e1b5ad",
   "metadata": {},
   "outputs": [
    {
     "ename": "NameError",
     "evalue": "name 'result' is not defined",
     "output_type": "error",
     "traceback": [
      "\u001b[31m---------------------------------------------------------------------------\u001b[39m",
      "\u001b[31mNameError\u001b[39m                                 Traceback (most recent call last)",
      "\u001b[36mCell\u001b[39m\u001b[36m \u001b[39m\u001b[32mIn[59]\u001b[39m\u001b[32m, line 1\u001b[39m\n\u001b[32m----> \u001b[39m\u001b[32m1\u001b[39m \u001b[43mresult\u001b[49m[\u001b[33m\"\u001b[39m\u001b[33mkeyword_output\u001b[39m\u001b[33m\"\u001b[39m].keywords\n",
      "\u001b[31mNameError\u001b[39m: name 'result' is not defined"
     ]
    }
   ],
   "source": [
    "result[\"keyword_output\"].keywords"
   ]
  },
  {
   "cell_type": "code",
   "execution_count": 60,
   "id": "08bebf5c",
   "metadata": {},
   "outputs": [
    {
     "name": "stdout",
     "output_type": "stream",
     "text": [
      "\n",
      "✅ Generated Keywords:\n"
     ]
    },
    {
     "ename": "NameError",
     "evalue": "name 'result' is not defined",
     "output_type": "error",
     "traceback": [
      "\u001b[31m---------------------------------------------------------------------------\u001b[39m",
      "\u001b[31mNameError\u001b[39m                                 Traceback (most recent call last)",
      "\u001b[36mCell\u001b[39m\u001b[36m \u001b[39m\u001b[32mIn[60]\u001b[39m\u001b[32m, line 2\u001b[39m\n\u001b[32m      1\u001b[39m \u001b[38;5;28mprint\u001b[39m(\u001b[33m\"\u001b[39m\u001b[38;5;130;01m\\n\u001b[39;00m\u001b[33m✅ Generated Keywords:\u001b[39m\u001b[33m\"\u001b[39m)\n\u001b[32m----> \u001b[39m\u001b[32m2\u001b[39m \u001b[38;5;28;01mfor\u001b[39;00m k \u001b[38;5;129;01min\u001b[39;00m \u001b[43mresult\u001b[49m[\u001b[33m\"\u001b[39m\u001b[33mkeyword_output\u001b[39m\u001b[33m\"\u001b[39m].keywords:\n\u001b[32m      3\u001b[39m     \u001b[38;5;28mprint\u001b[39m(\u001b[33mf\u001b[39m\u001b[33m\"\u001b[39m\u001b[33m - \u001b[39m\u001b[38;5;132;01m{\u001b[39;00mk\u001b[38;5;132;01m}\u001b[39;00m\u001b[33m\"\u001b[39m)\n",
      "\u001b[31mNameError\u001b[39m: name 'result' is not defined"
     ]
    }
   ],
   "source": [
    "print(\"\\n✅ Generated Keywords:\")\n",
    "for k in result[\"keyword_output\"].keywords:\n",
    "    print(f\" - {k}\")"
   ]
  },
  {
   "cell_type": "code",
   "execution_count": 61,
   "id": "5d33511b",
   "metadata": {},
   "outputs": [],
   "source": [
    "class Risk (BaseModel):\n",
    "    risk: str = Field(description=\"A risk associated with the requirement.\")\n"
   ]
  },
  {
   "cell_type": "code",
   "execution_count": 62,
   "id": "e9f10392",
   "metadata": {},
   "outputs": [],
   "source": [
    "class Requirements(BaseModel):\n",
    "    requirement: str = Field(description=\"Requirement that needs to be generated.\")\n",
    "    priority: str = Field(description=\"Role of the analyst in the context of the topic.\")\n",
    "    analysts: List[Risk] = Field(description=\"Comprehensive list of analysts with their roles and affiliations.\")\n",
    "    description: str = Field(description=\"Description of the analyst focus, concerns, and motives.\")\n",
    "    \n",
    "    @property\n",
    "    def persona(self) -> str:\n",
    "        return f\"Name: {self.name}\\nRole: {self.role}\\nAffiliation: {self.affiliation}\\nDescription: {self.description}\\n\"\n",
    "    "
   ]
  },
  {
   "cell_type": "code",
   "execution_count": 172,
   "id": "db4de641",
   "metadata": {},
   "outputs": [
    {
     "data": {
      "image/png": "[encoded data removed]",
      "text/plain": [
       "<IPython.core.display.Image object>"
      ]
     },
     "metadata": {},
     "output_type": "display_data"
    }
   ],
   "source": [
    "from langgraph.graph import StateGraph, MessagesState, END\n",
    "\n",
    "from langchain_core.messages import SystemMessage\n",
    "from pydantic import BaseModel, Field\n",
    "from typing import List\n",
    "from langgraph.checkpoint.memory import MemorySaver\n",
    "# -----------------------------\n",
    "# Pydantic Models\n",
    "# -----------------------------\n",
    "class KeywordOutput(BaseModel):\n",
    "    keywords: List[str] = Field(..., description=\"5 keywords, each 3 words long\")\n",
    "\n",
    "class RequirementsOutput(BaseModel):\n",
    "    requirements: List[str] = Field(..., description=\"5 formal requirements derived from selected keyword\")\n",
    "\n",
    "\n",
    "# -----------------------------\n",
    "# Graph State\n",
    "# -----------------------------\n",
    "class KeywordState(MessagesState):\n",
    "    requirement_description: str\n",
    "    keyword_output: KeywordOutput | None = None\n",
    "    selected_keyword: str | None = None\n",
    "    requirements_output: RequirementsOutput | None = None\n",
    "\n",
    "\n",
    "# -----------------------------\n",
    "# Nodes (example placeholders)\n",
    "# -----------------------------\n",
    "def generate_keywords(state: KeywordState):\n",
    "    # LLM call logic here\n",
    "\n",
    "    from langchain_core.prompts import ChatPromptTemplate\n",
    "\n",
    "\n",
    "    prompt = ChatPromptTemplate.from_template(\"\"\"\n",
    "    You are an expert requirement analyst.  \n",
    "    Given the following requirement description:\n",
    "\n",
    "    \"{requirement_description}\"\n",
    "\n",
    "    Generate exactly 5 keywords, each containing 3 words, as JSON list.\n",
    "    \"\"\")\n",
    "\n",
    "    # Use structured output\n",
    "    llm_structured = llm.with_structured_output(KeywordOutput)\n",
    "    result = (prompt | llm_structured).invoke({\"requirement_description\": state[\"requirement_description\"]})\n",
    "\n",
    "    state[\"keyword_output\"] = result\n",
    "    state[\"messages\"].append(SystemMessage(content=f\"Generated keywords: {result.keywords}\"))\n",
    "\n",
    "\n",
    "    print(\"=== Current State ===\")\n",
    "    for k, v in state.items():\n",
    "        print(f\"{k}: {v}\")\n",
    "    return state\n",
    "\n",
    "\n",
    "def human_feedback(state: KeywordState):\n",
    "    \"\"\"Interrupt node: user selects keyword\"\"\"\n",
    "    print(\"\\n✅ Generated Keywords:\")\n",
    "    for i, kw in enumerate(state[\"keyword_output\"].keywords, 1):\n",
    "        print(f\"{i}. {kw}\")\n",
    "\n",
    "    while True:\n",
    "        choice = input(\"Select a keyword by number: \")\n",
    "        print(\"choice is \",choice)\n",
    "        print(\"you have selected\", state[\"keyword_output\"].keywords[int(choice)-1])\n",
    "        #if choice.isdigit() and 1 <= int(choice) <= len(state[\"keyword_output\"].keywords):\n",
    "        state[\"selected_keyword\"] = state[\"keyword_output\"].keywords[int(choice)-1]\n",
    "        # print(state.selected_keyword) \n",
    "        break\n",
    "    \n",
    "    print(\"=== Current State22 ===\")\n",
    "    for k, v in state.items():\n",
    "        print(f\"{k}: {v}\")\n",
    "    return state\n",
    "\n",
    "def should_continue(state):\n",
    "    feedback = (state[\"selected_keyword\"] or \"\").strip().lower()\n",
    "    if feedback and feedback not in [\"\", \"none\", \"skip\", \"done\", \"continue\"]:\n",
    "        return \"generate_requirements\"\n",
    "    return END\n",
    "\n",
    "def generate_requirements(state: KeywordState):\n",
    "    # LLM call logic to generate 5 requirements\n",
    "\n",
    "    from langchain_core.prompts import ChatPromptTemplate\n",
    "    print(\"entered generate_requirements\")\n",
    " \n",
    "    prompt = ChatPromptTemplate.from_template(\"\"\"\n",
    "    You are an expert requirement analyst.  \n",
    "    Given the requirement description \"{requirement_description}\" and keyword \"{selected_keyword}\", generate 5 formal requirements as JSON list.\n",
    "    \"\"\")\n",
    "    llm_structured = llm.with_structured_output(RequirementsOutput)\n",
    "    print(\"llm_structured is \", llm_structured)\n",
    "    result = (prompt | llm_structured).invoke({\n",
    "    \"selected_keyword\": state[\"selected_keyword\"],\n",
    "    \"requirement_description\": state[\"requirement_description\"]\n",
    "})\n",
    "    print(\"result is \", result)\n",
    "    state[\"requirements_output\"] = result\n",
    "\n",
    "    print(\"state.requirements_output is \", state[\"requirements_output\"])\n",
    "    print(\"result.requirements is \", result.requirements)\n",
    "    \n",
    "    state[\"messages\"].append(SystemMessage(content=f\"Generated requirements: {result.requirements}\"))\n",
    "\n",
    "    print(\"=== Current State1 ===\")\n",
    "    for k, v in state.items():\n",
    "        print(f\"{k}: {v}\")\n",
    "    return state\n",
    "\n",
    "\n",
    "# -----------------------------\n",
    "# Build Graph\n",
    "# -----------------------------\n",
    "builder = StateGraph(KeywordState)\n",
    "builder.add_node(\"generate_keywords\", generate_keywords)\n",
    "builder.add_node(\"human_feedback\", human_feedback)\n",
    "builder.add_node(\"generate_requirements\", generate_requirements)\n",
    "\n",
    "builder.add_edge(\"generate_keywords\", \"human_feedback\")\n",
    "# builder.add_edge(\"human_feedback\", \"generate_requirements\")\n",
    "# builder.add_edge(\"generate_requirements\", END)\n",
    "\n",
    "\n",
    "builder.add_conditional_edges(\"human_feedback\",\n",
    "                        should_continue,\n",
    "                        [\"generate_keywords\",\n",
    "                        \"generate_requirements\"])\n",
    "builder.add_edge(\"human_feedback\", \"generate_requirements\")\n",
    "builder.add_edge(\"generate_requirements\", END)\n",
    "\n",
    "\n",
    "builder.set_entry_point(\"generate_keywords\")\n",
    "\n",
    "# -----------------------------\n",
    "# Compile graph with memory & interrupt\n",
    "# -----------------------------\n",
    "memory = MemorySaver()\n",
    "graph = builder.compile( checkpointer=memory)\n",
    "\n",
    "\n",
    "\n",
    "# -----------------------------\n",
    "# Run with thread isolation\n",
    "# -----------------------------\n",
    "thread = {\"configurable\": {\"thread_id\": 1}}\n",
    "\n",
    "\n",
    "from IPython.display import Image, display\n",
    "\n",
    "# Draw the graph as a Mermaid PNG\n",
    "graph_image = graph.get_graph().draw_mermaid_png()\n",
    "\n",
    "# Display inline in notebook\n",
    "display(Image(graph_image))\n",
    "\n",
    "\n"
   ]
  },
  {
   "cell_type": "code",
   "execution_count": 173,
   "id": "e7831f4b",
   "metadata": {},
   "outputs": [
    {
     "name": "stdout",
     "output_type": "stream",
     "text": [
      "=== Current State ===\n",
      "messages: [SystemMessage(content=\"Generated keywords: ['modular agent composition', 'scalable workflow orchestration', 'transparent state management', 'extensible tool integration', 'simplified debugging interface']\", additional_kwargs={}, response_metadata={})]\n",
      "requirement_description: The benefits of adopting LangGraph as an agent framework\n",
      "keyword_output: keywords=['modular agent composition', 'scalable workflow orchestration', 'transparent state management', 'extensible tool integration', 'simplified debugging interface']\n",
      "selected_keyword: None\n",
      "requirements_output: None\n",
      "\n",
      "⚡ Current Keywords:\n",
      " - modular agent composition\n",
      " - scalable workflow orchestration\n",
      " - transparent state management\n",
      " - extensible tool integration\n",
      " - simplified debugging interface\n",
      "\n",
      "✅ Generated Keywords:\n",
      "1. modular agent composition\n",
      "2. scalable workflow orchestration\n",
      "3. transparent state management\n",
      "4. extensible tool integration\n",
      "5. simplified debugging interface\n",
      "choice is  3\n",
      "you have selected transparent state management\n",
      "=== Current State22 ===\n",
      "messages: [SystemMessage(content=\"Generated keywords: ['modular agent composition', 'scalable workflow orchestration', 'transparent state management', 'extensible tool integration', 'simplified debugging interface']\", additional_kwargs={}, response_metadata={}, id='a053f38e-59ed-4d6e-b159-d9f9f37f9f46')]\n",
      "requirement_description: The benefits of adopting LangGraph as an agent framework\n",
      "keyword_output: keywords=['modular agent composition', 'scalable workflow orchestration', 'transparent state management', 'extensible tool integration', 'simplified debugging interface']\n",
      "selected_keyword: transparent state management\n",
      "requirements_output: None\n",
      "\n",
      "⚡ Current Keywords:\n",
      " - modular agent composition\n",
      " - scalable workflow orchestration\n",
      " - transparent state management\n",
      " - extensible tool integration\n",
      " - simplified debugging interface\n",
      "entered generate_requirements\n",
      "llm_structured is  first=RunnableBinding(bound=ChatGroq(client=<groq.resources.chat.completions.Completions object at 0x000002515AA6C5F0>, async_client=<groq.resources.chat.completions.AsyncCompletions object at 0x000002515ABB0140>, model_name='openai/gpt-oss-120b', model_kwargs={}, groq_api_key=SecretStr('**********')), kwargs={'tools': [{'type': 'function', 'function': {'name': 'RequirementsOutput', 'description': '', 'parameters': {'properties': {'requirements': {'description': '5 formal requirements derived from selected keyword', 'items': {'type': 'string'}, 'type': 'array'}}, 'required': ['requirements'], 'type': 'object'}}}], 'ls_structured_output_format': {'kwargs': {'method': 'function_calling'}, 'schema': {'type': 'function', 'function': {'name': 'RequirementsOutput', 'description': '', 'parameters': {'properties': {'requirements': {'description': '5 formal requirements derived from selected keyword', 'items': {'type': 'string'}, 'type': 'array'}}, 'required': ['requirements'], 'type': 'object'}}}}, 'tool_choice': {'type': 'function', 'function': {'name': 'RequirementsOutput'}}}, config={}, config_factories=[]) middle=[] last=PydanticToolsParser(first_tool_only=True, tools=[<class '__main__.RequirementsOutput'>])\n",
      "result is  requirements=[\"The framework shall provide a real-time visual representation of the agent's internal state, allowing developers to inspect all variables, memory nodes, and context data at any execution point.\", 'The framework shall expose a standardized API for querying the current state of any agent component, supporting filters by node type, timestamp, and execution branch.', 'The framework shall support immutable state snapshots and versioning, enabling developers to revert to previous states or compare state changes across runs.', 'The framework shall log all state mutations with timestamps, source identifiers, and causality metadata, ensuring full auditability and facilitating debugging of state transitions.', 'The framework shall allow authorized users to modify or inject state entries through a secure interface, with changes automatically propagated to all dependent graph nodes while preserving consistency guarantees.']\n",
      "state.requirements_output is  requirements=[\"The framework shall provide a real-time visual representation of the agent's internal state, allowing developers to inspect all variables, memory nodes, and context data at any execution point.\", 'The framework shall expose a standardized API for querying the current state of any agent component, supporting filters by node type, timestamp, and execution branch.', 'The framework shall support immutable state snapshots and versioning, enabling developers to revert to previous states or compare state changes across runs.', 'The framework shall log all state mutations with timestamps, source identifiers, and causality metadata, ensuring full auditability and facilitating debugging of state transitions.', 'The framework shall allow authorized users to modify or inject state entries through a secure interface, with changes automatically propagated to all dependent graph nodes while preserving consistency guarantees.']\n",
      "result.requirements is  [\"The framework shall provide a real-time visual representation of the agent's internal state, allowing developers to inspect all variables, memory nodes, and context data at any execution point.\", 'The framework shall expose a standardized API for querying the current state of any agent component, supporting filters by node type, timestamp, and execution branch.', 'The framework shall support immutable state snapshots and versioning, enabling developers to revert to previous states or compare state changes across runs.', 'The framework shall log all state mutations with timestamps, source identifiers, and causality metadata, ensuring full auditability and facilitating debugging of state transitions.', 'The framework shall allow authorized users to modify or inject state entries through a secure interface, with changes automatically propagated to all dependent graph nodes while preserving consistency guarantees.']\n",
      "=== Current State1 ===\n",
      "messages: [SystemMessage(content=\"Generated keywords: ['modular agent composition', 'scalable workflow orchestration', 'transparent state management', 'extensible tool integration', 'simplified debugging interface']\", additional_kwargs={}, response_metadata={}, id='a053f38e-59ed-4d6e-b159-d9f9f37f9f46'), SystemMessage(content='Generated requirements: [\"The framework shall provide a real-time visual representation of the agent\\'s internal state, allowing developers to inspect all variables, memory nodes, and context data at any execution point.\", \\'The framework shall expose a standardized API for querying the current state of any agent component, supporting filters by node type, timestamp, and execution branch.\\', \\'The framework shall support immutable state snapshots and versioning, enabling developers to revert to previous states or compare state changes across runs.\\', \\'The framework shall log all state mutations with timestamps, source identifiers, and causality metadata, ensuring full auditability and facilitating debugging of state transitions.\\', \\'The framework shall allow authorized users to modify or inject state entries through a secure interface, with changes automatically propagated to all dependent graph nodes while preserving consistency guarantees.\\']', additional_kwargs={}, response_metadata={})]\n",
      "requirement_description: The benefits of adopting LangGraph as an agent framework\n",
      "keyword_output: keywords=['modular agent composition', 'scalable workflow orchestration', 'transparent state management', 'extensible tool integration', 'simplified debugging interface']\n",
      "selected_keyword: transparent state management\n",
      "requirements_output: requirements=[\"The framework shall provide a real-time visual representation of the agent's internal state, allowing developers to inspect all variables, memory nodes, and context data at any execution point.\", 'The framework shall expose a standardized API for querying the current state of any agent component, supporting filters by node type, timestamp, and execution branch.', 'The framework shall support immutable state snapshots and versioning, enabling developers to revert to previous states or compare state changes across runs.', 'The framework shall log all state mutations with timestamps, source identifiers, and causality metadata, ensuring full auditability and facilitating debugging of state transitions.', 'The framework shall allow authorized users to modify or inject state entries through a secure interface, with changes automatically propagated to all dependent graph nodes while preserving consistency guarantees.']\n",
      "\n",
      "⚡ Current Keywords:\n",
      " - modular agent composition\n",
      " - scalable workflow orchestration\n",
      " - transparent state management\n",
      " - extensible tool integration\n",
      " - simplified debugging interface\n",
      "\n",
      "✅ Final Generated Requirements:\n",
      "1. The framework shall provide a real-time visual representation of the agent's internal state, allowing developers to inspect all variables, memory nodes, and context data at any execution point.\n",
      "2. The framework shall expose a standardized API for querying the current state of any agent component, supporting filters by node type, timestamp, and execution branch.\n",
      "3. The framework shall support immutable state snapshots and versioning, enabling developers to revert to previous states or compare state changes across runs.\n",
      "4. The framework shall log all state mutations with timestamps, source identifiers, and causality metadata, ensuring full auditability and facilitating debugging of state transitions.\n",
      "5. The framework shall allow authorized users to modify or inject state entries through a secure interface, with changes automatically propagated to all dependent graph nodes while preserving consistency guarantees.\n"
     ]
    }
   ],
   "source": [
    "state = {\n",
    "    \"requirement_description\": \"The benefits of adopting LangGraph as an agent framework\",\n",
    "    \"messages\": [],\n",
    "    \"keyword_output\": None,\n",
    "    \"selected_keyword\": None,\n",
    "    \"requirements_output\": None\n",
    "}\n",
    "\n",
    "# Run the entire graph; input() will pause it once\n",
    "for event in graph.stream(state, thread, stream_mode=\"values\"):\n",
    "    if \"keyword_output\" in event and event[\"keyword_output\"]:\n",
    "        print(\"\\n⚡ Current Keywords:\")\n",
    "        for kw in event[\"keyword_output\"].keywords:\n",
    "            print(\" -\", kw)\n",
    "\n",
    "    if \"requirements_output\" in event and event[\"requirements_output\"]:\n",
    "        print(\"\\n✅ Final Generated Requirements:\")\n",
    "        for i, req in enumerate(event[\"requirements_output\"].requirements, 1):\n",
    "            print(f\"{i}. {req}\")\n"
   ]
  },
  {
   "cell_type": "code",
   "execution_count": 80,
   "id": "a5a6813f",
   "metadata": {},
   "outputs": [
    {
     "data": {
      "text/plain": [
       "['benefits of LangGraph',\n",
       " 'agent framework adoption',\n",
       " 'scalable AI orchestration',\n",
       " 'modular graph architecture',\n",
       " 'enhanced developer productivity']"
      ]
     },
     "execution_count": 80,
     "metadata": {},
     "output_type": "execute_result"
    }
   ],
   "source": [
    "event[\"keyword_output\"].keywords"
   ]
  },
  {
   "cell_type": "code",
   "execution_count": 81,
   "id": "f01b2a7a",
   "metadata": {},
   "outputs": [],
   "source": [
    "reqstate[\"selected_keyword\"] = \"s\""
   ]
  },
  {
   "cell_type": "code",
   "execution_count": 93,
   "id": "9d0f7006",
   "metadata": {},
   "outputs": [],
   "source": [
    "state = graph.get_state(thread)"
   ]
  },
  {
   "cell_type": "code",
   "execution_count": 94,
   "id": "a2325811",
   "metadata": {},
   "outputs": [
    {
     "data": {
      "text/plain": [
       "StateSnapshot(values={'messages': [SystemMessage(content=\"Generated keywords: ['scalable agent orchestration', 'modular workflow composition', 'enhanced state management', 'seamless integration capabilities', 'robust debugging tools']\", additional_kwargs={}, response_metadata={}, id='8ab558dd-b168-44e9-851b-275ddbe2ddc6'), SystemMessage(content=\"Generated keywords: ['benefits of LangGraph', 'agent framework adoption', 'scalable AI orchestration', 'modular graph architecture', 'enhanced developer productivity']\", additional_kwargs={}, response_metadata={}, id='4ae29f93-7436-4b35-b3e8-fce3d3c45018'), SystemMessage(content=\"Generated keywords: ['Scalable workflow orchestration', 'Modular component integration', 'Improved debugging capabilities', 'Enhanced state management', 'Rapid prototyping support']\", additional_kwargs={}, response_metadata={}, id='216785ba-6099-4b72-b1a8-e50760b5bc16')], 'requirement_description': 'The benefits of adopting LangGraph as an agent framework', 'keyword_output': KeywordOutput(keywords=['Scalable workflow orchestration', 'Modular component integration', 'Improved debugging capabilities', 'Enhanced state management', 'Rapid prototyping support']), 'selected_keyword': 'scalable agent orchestration', 'requirements_output': None}, next=('generate_requirements',), config={'configurable': {'thread_id': '1', 'checkpoint_ns': '', 'checkpoint_id': '1f0ab5b6-26e5-649b-8009-a519d1dea3f3'}}, metadata={'source': 'update', 'step': 9, 'parents': {}}, created_at='2025-10-17T13:15:43.025679+00:00', parent_config={'configurable': {'thread_id': '1', 'checkpoint_ns': '', 'checkpoint_id': '1f0ab5b5-1488-6eac-8008-d86459c81ac8'}}, tasks=(PregelTask(id='1155c6f9-14ff-a74d-1549-8e0187566caf', name='generate_requirements', path=('__pregel_pull', 'generate_requirements'), error=None, interrupts=(), state=None, result=None),), interrupts=())"
      ]
     },
     "execution_count": 94,
     "metadata": {},
     "output_type": "execute_result"
    }
   ],
   "source": [
    "state"
   ]
  },
  {
   "cell_type": "code",
   "execution_count": 95,
   "id": "f6e1f5ae",
   "metadata": {},
   "outputs": [
    {
     "data": {
      "text/plain": [
       "{'messages': [SystemMessage(content=\"Generated keywords: ['scalable agent orchestration', 'modular workflow composition', 'enhanced state management', 'seamless integration capabilities', 'robust debugging tools']\", additional_kwargs={}, response_metadata={}, id='8ab558dd-b168-44e9-851b-275ddbe2ddc6'),\n",
       "  SystemMessage(content=\"Generated keywords: ['benefits of LangGraph', 'agent framework adoption', 'scalable AI orchestration', 'modular graph architecture', 'enhanced developer productivity']\", additional_kwargs={}, response_metadata={}, id='4ae29f93-7436-4b35-b3e8-fce3d3c45018'),\n",
       "  SystemMessage(content=\"Generated keywords: ['Scalable workflow orchestration', 'Modular component integration', 'Improved debugging capabilities', 'Enhanced state management', 'Rapid prototyping support']\", additional_kwargs={}, response_metadata={}, id='216785ba-6099-4b72-b1a8-e50760b5bc16')],\n",
       " 'requirement_description': 'The benefits of adopting LangGraph as an agent framework',\n",
       " 'keyword_output': KeywordOutput(keywords=['Scalable workflow orchestration', 'Modular component integration', 'Improved debugging capabilities', 'Enhanced state management', 'Rapid prototyping support']),\n",
       " 'selected_keyword': 'scalable agent orchestration',\n",
       " 'requirements_output': None}"
      ]
     },
     "execution_count": 95,
     "metadata": {},
     "output_type": "execute_result"
    }
   ],
   "source": [
    "state.values"
   ]
  },
  {
   "cell_type": "code",
   "execution_count": 85,
   "id": "f3c30502",
   "metadata": {},
   "outputs": [
    {
     "data": {
      "text/plain": [
       "('human_feedback',)"
      ]
     },
     "execution_count": 85,
     "metadata": {},
     "output_type": "execute_result"
    }
   ],
   "source": [
    "state.next"
   ]
  },
  {
   "cell_type": "code",
   "execution_count": 19,
   "id": "a8c24014",
   "metadata": {},
   "outputs": [
    {
     "data": {
      "text/plain": [
       "StateSnapshot(values={'messages': [SystemMessage(content=\"Generated keywords: ['scalable modular architecture', 'enhanced state management', 'seamless tool integration', 'improved debugging capabilities', 'accelerated development cycles']\", additional_kwargs={}, response_metadata={}, id='c051df2b-dc24-4c93-b7b1-a016c403e874'), SystemMessage(content=\"Generated keywords: ['scalable workflow orchestration', 'modular component integration', 'enhanced debugging tools', 'seamless state management', 'flexible deployment options']\", additional_kwargs={}, response_metadata={}, id='dc77b385-52cc-4e5e-b036-e7a22e2d5804'), SystemMessage(content=\"Generated keywords: ['scalable agent orchestration', 'modular graph architecture', 'enhanced state management', 'seamless tool integration', 'transparent debugging visualization']\", additional_kwargs={}, response_metadata={}, id='860d0bf5-5984-473c-b3be-a8a1e50de5ce')], 'requirement_description': 'The benefits of adopting LangGraph as an agent framework', 'keyword_output': KeywordOutput(keywords=['scalable agent orchestration', 'modular graph architecture', 'enhanced state management', 'seamless tool integration', 'transparent debugging visualization']), 'selected_keyword': 'scalable modular architecture', 'requirements_output': None}, next=('human_feedback',), config={'configurable': {'thread_id': '1', 'checkpoint_ns': '', 'checkpoint_id': '1f0a9f7d-da69-6081-8007-b52ef6a6b437'}}, metadata={'source': 'loop', 'step': 7, 'parents': {}}, created_at='2025-10-15T18:50:48.918233+00:00', parent_config={'configurable': {'thread_id': '1', 'checkpoint_ns': '', 'checkpoint_id': '1f0a9f7d-d2ce-6583-8006-5b38c6ebc7a9'}}, tasks=(PregelTask(id='b23967c8-e526-5b05-60b0-83579ac5ce85', name='human_feedback', path=('__pregel_pull', 'human_feedback'), error=None, interrupts=(), state=None, result=None),), interrupts=())"
      ]
     },
     "execution_count": 19,
     "metadata": {},
     "output_type": "execute_result"
    }
   ],
   "source": [
    "state"
   ]
  },
  {
   "cell_type": "code",
   "execution_count": 86,
   "id": "919b8418",
   "metadata": {},
   "outputs": [
    {
     "data": {
      "text/plain": [
       "dict_items([('1', defaultdict(<class 'dict'>, {'': {'1f0ab5a8-84ef-650e-bfff-5f12a345c20c': (('msgpack', b'\\x86\\xa1v\\x04\\xa2ts\\xd9 2025-10-17T13:09:37.076762+00:00\\xa2id\\xd9$1f0ab5a8-84ef-650e-bfff-5f12a345c20c\\xb0channel_versions\\x81\\xa9__start__\\xd9300000000000000000000000000000001.0.9874862000703497\\xadversions_seen\\x81\\xa9__input__\\x80\\xb0updated_channels\\x91\\xa9__start__'), ('msgpack', b'\\x83\\xa6source\\xa5input\\xa4step\\xff\\xa7parents\\x80'), None), '1f0ab5a8-84f4-6309-8000-a132e99c31db': (('msgpack', b'\\x86\\xa1v\\x04\\xa2ts\\xd9 2025-10-17T13:09:37.078759+00:00\\xa2id\\xd9$1f0ab5a8-84f4-6309-8000-a132e99c31db\\xb0channel_versions\\x87\\xa9__start__\\xd9300000000000000000000000000000002.0.8363057691701027\\xb7requirement_description\\xd9300000000000000000000000000000002.0.8363057691701027\\xa8messages\\xd9300000000000000000000000000000002.0.8363057691701027\\xaekeyword_output\\xd9300000000000000000000000000000002.0.8363057691701027\\xb0selected_keyword\\xd9300000000000000000000000000000002.0.8363057691701027\\xb3requirements_output\\xd9300000000000000000000000000000002.0.8363057691701027\\xbbbranch:to:generate_keywords\\xd9300000000000000000000000000000002.0.8363057691701027\\xadversions_seen\\x82\\xa9__input__\\x80\\xa9__start__\\x81\\xa9__start__\\xd9300000000000000000000000000000001.0.9874862000703497\\xb0updated_channels\\x96\\xbbbranch:to:generate_keywords\\xaekeyword_output\\xa8messages\\xb7requirement_description\\xb3requirements_output\\xb0selected_keyword'), ('msgpack', b'\\x83\\xa6source\\xa4loop\\xa4step\\x00\\xa7parents\\x80'), '1f0ab5a8-84ef-650e-bfff-5f12a345c20c'), '1f0ab5a8-8c61-67a3-8001-d420caae787a': (('msgpack', b'\\x86\\xa1v\\x04\\xa2ts\\xd9 2025-10-17T13:09:37.857526+00:00\\xa2id\\xd9$1f0ab5a8-8c61-67a3-8001-d420caae787a\\xb0channel_versions\\x88\\xa9__start__\\xd9300000000000000000000000000000002.0.8363057691701027\\xb7requirement_description\\xd9400000000000000000000000000000003.0.25740000288104947\\xa8messages\\xd9400000000000000000000000000000003.0.25740000288104947\\xaekeyword_output\\xd9400000000000000000000000000000003.0.25740000288104947\\xb0selected_keyword\\xd9400000000000000000000000000000003.0.25740000288104947\\xb3requirements_output\\xd9400000000000000000000000000000003.0.25740000288104947\\xbbbranch:to:generate_keywords\\xd9400000000000000000000000000000003.0.25740000288104947\\xb8branch:to:human_feedback\\xd9400000000000000000000000000000003.0.25740000288104947\\xadversions_seen\\x83\\xa9__input__\\x80\\xa9__start__\\x81\\xa9__start__\\xd9300000000000000000000000000000001.0.9874862000703497\\xb1generate_keywords\\x81\\xbbbranch:to:generate_keywords\\xd9300000000000000000000000000000002.0.8363057691701027\\xb0updated_channels\\x96\\xb8branch:to:human_feedback\\xaekeyword_output\\xa8messages\\xb7requirement_description\\xb3requirements_output\\xb0selected_keyword'), ('msgpack', b'\\x83\\xa6source\\xa4loop\\xa4step\\x01\\xa7parents\\x80'), '1f0ab5a8-84f4-6309-8000-a132e99c31db'), '1f0ab5b2-f4ec-66dc-8002-77fcd418117f': (('msgpack', b'\\x86\\xa1v\\x04\\xa2ts\\xd9 2025-10-17T13:14:17.255087+00:00\\xa2id\\xd9$1f0ab5b2-f4ec-66dc-8002-77fcd418117f\\xb0channel_versions\\x88\\xa9__start__\\xd9300000000000000000000000000000004.0.4873689031801547\\xb7requirement_description\\xd9400000000000000000000000000000003.0.25740000288104947\\xa8messages\\xd9400000000000000000000000000000003.0.25740000288104947\\xaekeyword_output\\xd9400000000000000000000000000000003.0.25740000288104947\\xb0selected_keyword\\xd9400000000000000000000000000000003.0.25740000288104947\\xb3requirements_output\\xd9400000000000000000000000000000003.0.25740000288104947\\xbbbranch:to:generate_keywords\\xd9400000000000000000000000000000003.0.25740000288104947\\xb8branch:to:human_feedback\\xd9300000000000000000000000000000004.0.4873689031801547\\xadversions_seen\\x84\\xa9__input__\\x80\\xa9__start__\\x81\\xa9__start__\\xd9300000000000000000000000000000001.0.9874862000703497\\xb1generate_keywords\\x81\\xbbbranch:to:generate_keywords\\xd9300000000000000000000000000000002.0.8363057691701027\\xaehuman_feedback\\x81\\xb8branch:to:human_feedback\\xd9400000000000000000000000000000003.0.25740000288104947\\xb0updated_channels\\x91\\xa9__start__'), ('msgpack', b'\\x83\\xa6source\\xa5input\\xa4step\\x02\\xa7parents\\x80'), '1f0ab5a8-8c61-67a3-8001-d420caae787a'), '1f0ab5b2-f51b-6a1b-8003-08f9c74bb4b7': (('msgpack', b'\\x86\\xa1v\\x04\\xa2ts\\xd9 2025-10-17T13:14:17.274421+00:00\\xa2id\\xd9$1f0ab5b2-f51b-6a1b-8003-08f9c74bb4b7\\xb0channel_versions\\x88\\xa9__start__\\xd9300000000000000000000000000000005.0.6217509579280501\\xb7requirement_description\\xd9400000000000000000000000000000003.0.25740000288104947\\xa8messages\\xd9400000000000000000000000000000003.0.25740000288104947\\xaekeyword_output\\xd9400000000000000000000000000000003.0.25740000288104947\\xb0selected_keyword\\xd9400000000000000000000000000000003.0.25740000288104947\\xb3requirements_output\\xd9400000000000000000000000000000003.0.25740000288104947\\xbbbranch:to:generate_keywords\\xd9300000000000000000000000000000005.0.6217509579280501\\xb8branch:to:human_feedback\\xd9300000000000000000000000000000004.0.4873689031801547\\xadversions_seen\\x84\\xa9__input__\\x80\\xa9__start__\\x81\\xa9__start__\\xd9300000000000000000000000000000004.0.4873689031801547\\xb1generate_keywords\\x81\\xbbbranch:to:generate_keywords\\xd9300000000000000000000000000000002.0.8363057691701027\\xaehuman_feedback\\x81\\xb8branch:to:human_feedback\\xd9400000000000000000000000000000003.0.25740000288104947\\xb0updated_channels\\x91\\xbbbranch:to:generate_keywords'), ('msgpack', b'\\x83\\xa6source\\xa4loop\\xa4step\\x03\\xa7parents\\x80'), '1f0ab5b2-f4ec-66dc-8002-77fcd418117f'), '1f0ab5b2-fce1-6b66-8004-ce379dc9b6bf': (('msgpack', b'\\x86\\xa1v\\x04\\xa2ts\\xd9 2025-10-17T13:14:18.089559+00:00\\xa2id\\xd9$1f0ab5b2-fce1-6b66-8004-ce379dc9b6bf\\xb0channel_versions\\x88\\xa9__start__\\xd9300000000000000000000000000000005.0.6217509579280501\\xb7requirement_description\\xd9300000000000000000000000000000006.0.9074693520291798\\xa8messages\\xd9300000000000000000000000000000006.0.9074693520291798\\xaekeyword_output\\xd9300000000000000000000000000000006.0.9074693520291798\\xb0selected_keyword\\xd9300000000000000000000000000000006.0.9074693520291798\\xb3requirements_output\\xd9300000000000000000000000000000006.0.9074693520291798\\xbbbranch:to:generate_keywords\\xd9300000000000000000000000000000006.0.9074693520291798\\xb8branch:to:human_feedback\\xd9300000000000000000000000000000006.0.9074693520291798\\xadversions_seen\\x84\\xa9__input__\\x80\\xa9__start__\\x81\\xa9__start__\\xd9300000000000000000000000000000004.0.4873689031801547\\xb1generate_keywords\\x81\\xbbbranch:to:generate_keywords\\xd9300000000000000000000000000000005.0.6217509579280501\\xaehuman_feedback\\x81\\xb8branch:to:human_feedback\\xd9400000000000000000000000000000003.0.25740000288104947\\xb0updated_channels\\x96\\xb8branch:to:human_feedback\\xaekeyword_output\\xa8messages\\xb7requirement_description\\xb3requirements_output\\xb0selected_keyword'), ('msgpack', b'\\x83\\xa6source\\xa4loop\\xa4step\\x04\\xa7parents\\x80'), '1f0ab5b2-f51b-6a1b-8003-08f9c74bb4b7')}}))])"
      ]
     },
     "execution_count": 86,
     "metadata": {},
     "output_type": "execute_result"
    }
   ],
   "source": [
    "memory.storage.items()"
   ]
  },
  {
   "cell_type": "code",
   "execution_count": 88,
   "id": "c524a33b",
   "metadata": {},
   "outputs": [
    {
     "data": {
      "text/plain": [
       "{'configurable': {'thread_id': '1',\n",
       "  'checkpoint_ns': '',\n",
       "  'checkpoint_id': '1f0ab5b2-fce1-6b66-8004-ce379dc9b6bf'}}"
      ]
     },
     "execution_count": 88,
     "metadata": {},
     "output_type": "execute_result"
    }
   ],
   "source": [
    "state.config"
   ]
  },
  {
   "cell_type": "code",
   "execution_count": 91,
   "id": "7ba4d733",
   "metadata": {},
   "outputs": [
    {
     "data": {
      "text/plain": [
       "{'configurable': {'thread_id': '1',\n",
       "  'checkpoint_ns': '',\n",
       "  'checkpoint_id': '1f0ab5b6-26e5-649b-8009-a519d1dea3f3'}}"
      ]
     },
     "execution_count": 91,
     "metadata": {},
     "output_type": "execute_result"
    }
   ],
   "source": [
    "graph.update_state(thread,\n",
    "                   {\"selected_keyword\":\"scalable agent orchestration\"},as_node=\"human_feedback\"\n",
    "                   )"
   ]
  },
  {
   "cell_type": "code",
   "execution_count": 90,
   "id": "ce9d750c",
   "metadata": {},
   "outputs": [
    {
     "name": "stdout",
     "output_type": "stream",
     "text": [
      "=== Current State ===\n",
      "messages: [SystemMessage(content=\"Generated keywords: ['scalable agent orchestration', 'modular workflow composition', 'enhanced state management', 'seamless integration capabilities', 'robust debugging tools']\", additional_kwargs={}, response_metadata={}, id='8ab558dd-b168-44e9-851b-275ddbe2ddc6'), SystemMessage(content=\"Generated keywords: ['benefits of LangGraph', 'agent framework adoption', 'scalable AI orchestration', 'modular graph architecture', 'enhanced developer productivity']\", additional_kwargs={}, response_metadata={}, id='4ae29f93-7436-4b35-b3e8-fce3d3c45018'), SystemMessage(content=\"Generated keywords: ['Scalable workflow orchestration', 'Modular component integration', 'Improved debugging capabilities', 'Enhanced state management', 'Rapid prototyping support']\", additional_kwargs={}, response_metadata={})]\n",
      "requirement_description: The benefits of adopting LangGraph as an agent framework\n",
      "keyword_output: keywords=['Scalable workflow orchestration', 'Modular component integration', 'Improved debugging capabilities', 'Enhanced state management', 'Rapid prototyping support']\n",
      "selected_keyword: None\n",
      "requirements_output: None\n",
      "\n",
      "⚡ Current Keywords:\n",
      " - Scalable workflow orchestration\n",
      " - Modular component integration\n",
      " - Improved debugging capabilities\n",
      " - Enhanced state management\n",
      " - Rapid prototyping support\n",
      "\n",
      "💬 Pipeline paused for human feedback. Use the prompt to select a keyword.\n"
     ]
    }
   ],
   "source": [
    "\n",
    "state = {\"requirement_description\": \"The benefits of adopting LangGraph as an agent framework\",\n",
    "         \"messages\": [],\n",
    "         \"keyword_output\": None,\n",
    "         \"selected_keyword\": None,\n",
    "         \"requirements_output\": None}\n",
    "\n",
    "# Stream events if you want incremental updates\n",
    "for event in graph.stream(state, thread, stream_mode=\"values\"):\n",
    "    if \"keyword_output\" in event and event[\"keyword_output\"]:\n",
    "        print(\"\\n⚡ Current Keywords:\")\n",
    "        for kw in event[\"keyword_output\"].keywords:\n",
    "            print(\" -\", kw)\n",
    "\n",
    "# At this point, the graph **interrupts at human_feedback**\n",
    "print(\"\\n💬 Pipeline paused for human feedback. Use the prompt to select a keyword.\")\n"
   ]
  },
  {
   "cell_type": "code",
   "execution_count": 97,
   "id": "3dd0d0ea",
   "metadata": {},
   "outputs": [
    {
     "data": {
      "text/plain": [
       "('generate_requirements',)"
      ]
     },
     "execution_count": 97,
     "metadata": {},
     "output_type": "execute_result"
    }
   ],
   "source": [
    "state.next"
   ]
  },
  {
   "cell_type": "code",
   "execution_count": 92,
   "id": "f73cf466",
   "metadata": {},
   "outputs": [
    {
     "data": {
      "text/plain": [
       "<function dict.values>"
      ]
     },
     "execution_count": 92,
     "metadata": {},
     "output_type": "execute_result"
    }
   ],
   "source": [
    "state.values"
   ]
  },
  {
   "cell_type": "code",
   "execution_count": 29,
   "id": "6896bd96",
   "metadata": {},
   "outputs": [],
   "source": [
    "# If we are satisfied, then we simply supply no feedback\n",
    "further_feedack = \"\""
   ]
  },
  {
   "cell_type": "code",
   "execution_count": 96,
   "id": "2d746614",
   "metadata": {},
   "outputs": [],
   "source": [
    "# 1) Get the latest state (you're paused at 'human_feedback')\n",
    "state = graph.get_state(thread)\n",
    "\n",
    "# 2) Use the exact config from that state (it already has thread_id, checkpoint_ns, checkpoint_id)\n",
    "cfg = state.config"
   ]
  },
  {
   "cell_type": "code",
   "execution_count": 32,
   "id": "74f46637",
   "metadata": {},
   "outputs": [
    {
     "data": {
      "text/plain": [
       "{'configurable': {'thread_id': '1',\n",
       "  'checkpoint_ns': '',\n",
       "  'checkpoint_id': '1f0ab597-db18-6049-800c-5d456d4e2966'}}"
      ]
     },
     "execution_count": 32,
     "metadata": {},
     "output_type": "execute_result"
    }
   ],
   "source": [
    "# 3) Update feedback at the 'human_feedback' node\n",
    "#    Tip: if your TypedDict says `human_analyst_feedback: str`, prefer \"\" (empty string) over None\n",
    "graph.update_state(cfg, {\"human_analyst_feedback\": \"\"}, as_node=\"human_feedback\")"
   ]
  },
  {
   "cell_type": "code",
   "execution_count": 33,
   "id": "49d66dc7",
   "metadata": {},
   "outputs": [
    {
     "name": "stdout",
     "output_type": "stream",
     "text": [
      "('generate_requirements',)\n"
     ]
    }
   ],
   "source": [
    "# 4) Verify it moved to END\n",
    "final_state = graph.get_state(thread)\n",
    "print(final_state.next)  # should be (END,)"
   ]
  },
  {
   "cell_type": "code",
   "execution_count": 36,
   "id": "aaee26ff",
   "metadata": {},
   "outputs": [],
   "source": [
    "requirements_output = final_state.values.get('generate_requirements')"
   ]
  },
  {
   "cell_type": "code",
   "execution_count": 37,
   "id": "fe52ff20",
   "metadata": {},
   "outputs": [],
   "source": [
    "requirements_output"
   ]
  },
  {
   "cell_type": "code",
   "execution_count": 38,
   "id": "7aa484f0",
   "metadata": {},
   "outputs": [
    {
     "name": "stdout",
     "output_type": "stream",
     "text": [
      "=== Current State ===\n",
      "messages: [SystemMessage(content=\"Generated keywords: ['scalable modular architecture', 'enhanced state management', 'seamless tool integration', 'improved debugging capabilities', 'accelerated development cycles']\", additional_kwargs={}, response_metadata={}, id='c051df2b-dc24-4c93-b7b1-a016c403e874'), SystemMessage(content=\"Generated keywords: ['scalable workflow orchestration', 'modular component integration', 'enhanced debugging tools', 'seamless state management', 'flexible deployment options']\", additional_kwargs={}, response_metadata={}, id='dc77b385-52cc-4e5e-b036-e7a22e2d5804'), SystemMessage(content=\"Generated keywords: ['scalable agent orchestration', 'modular graph architecture', 'enhanced state management', 'seamless tool integration', 'transparent debugging visualization']\", additional_kwargs={}, response_metadata={}, id='860d0bf5-5984-473c-b3be-a8a1e50de5ce'), SystemMessage(content=\"Generated keywords: ['LangGraph agent framework', 'enhanced modular architecture', 'scalable multi-agent orchestration', 'simplified workflow integration', 'robust state management']\", additional_kwargs={}, response_metadata={}, id='b694c6e4-7f4b-4747-9f42-9da3ad29993e'), SystemMessage(content=\"Generated keywords: ['scalable modular architecture', 'enhanced reasoning capabilities', 'seamless tool integration', 'dynamic memory management', 'simplified workflow orchestration']\", additional_kwargs={}, response_metadata={})]\n",
      "requirement_description: The benefits of adopting LangGraph as an agent framework\n",
      "keyword_output: keywords=['scalable modular architecture', 'enhanced reasoning capabilities', 'seamless tool integration', 'dynamic memory management', 'simplified workflow orchestration']\n",
      "selected_keyword: None\n",
      "requirements_output: None\n",
      "\n",
      "⚡ Current Keywords:\n",
      " - scalable modular architecture\n",
      " - enhanced reasoning capabilities\n",
      " - seamless tool integration\n",
      " - dynamic memory management\n",
      " - simplified workflow orchestration\n",
      "\n",
      "💬 Pipeline paused for human feedback. Use the prompt to select a keyword.\n"
     ]
    }
   ],
   "source": [
    "\n",
    "state = {\"requirement_description\": \"The benefits of adopting LangGraph as an agent framework\",\n",
    "         \"messages\": [],\n",
    "         \"keyword_output\": None,\n",
    "         \"selected_keyword\": None,\n",
    "         \"requirements_output\": None}\n",
    "\n",
    "# Stream events if you want incremental updates\n",
    "for event in graph.stream(state, thread, stream_mode=\"values\"):\n",
    "    if \"keyword_output\" in event and event[\"keyword_output\"]:\n",
    "        print(\"\\n⚡ Current Keywords:\")\n",
    "        for kw in event[\"keyword_output\"].keywords:\n",
    "            print(\" -\", kw)\n",
    "\n",
    "# At this point, the graph **interrupts at human_feedback**\n",
    "print(\"\\n💬 Pipeline paused for human feedback. Use the prompt to select a keyword.\")\n"
   ]
  },
  {
   "cell_type": "code",
   "execution_count": 40,
   "id": "6a47beb1",
   "metadata": {},
   "outputs": [],
   "source": [
    "state[\"keyword_output\"]"
   ]
  },
  {
   "cell_type": "code",
   "execution_count": null,
   "id": "0ab57db2",
   "metadata": {},
   "outputs": [
    {
     "data": {
      "text/plain": [
       "{'requirement_description': 'The benefits of adopting LangGraph as an agent framework',\n",
       " 'messages': [],\n",
       " 'keyword_output': None,\n",
       " 'selected_keyword': None,\n",
       " 'requirements_output': None}"
      ]
     },
     "execution_count": 39,
     "metadata": {},
     "output_type": "execute_result"
    }
   ],
   "source": []
  }
 ],
 "metadata": {
  "kernelspec": {
   "display_name": ".venv",
   "language": "python",
   "name": "python3"
  },
  "language_info": {
   "codemirror_mode": {
    "name": "ipython",
    "version": 3
   },
   "file_extension": ".py",
   "mimetype": "text/x-python",
   "name": "python",
   "nbconvert_exporter": "python",
   "pygments_lexer": "ipython3",
   "version": "3.12.7"
  }
 },
 "nbformat": 4,
 "nbformat_minor": 5
}
